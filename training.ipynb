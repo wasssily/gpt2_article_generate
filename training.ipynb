{
  "nbformat": 4,
  "nbformat_minor": 0,
  "metadata": {
    "colab": {
      "name": "training.ipynb",
      "provenance": [],
      "mount_file_id": "1ecF4X4-u6ko770q_V6TPyqXoGgr2wBRi",
      "authorship_tag": "ABX9TyPeRL/w3aeNEOZzQ74BRprK",
      "include_colab_link": true
    },
    "kernelspec": {
      "name": "python3",
      "display_name": "Python 3"
    },
    "language_info": {
      "name": "python"
    },
    "accelerator": "GPU"
  },
  "cells": [
    {
      "cell_type": "markdown",
      "metadata": {
        "id": "view-in-github",
        "colab_type": "text"
      },
      "source": [
        "<a href=\"https://colab.research.google.com/github/wasssily/gpt2_article_generate/blob/main/training.ipynb\" target=\"_parent\"><img src=\"https://colab.research.google.com/assets/colab-badge.svg\" alt=\"Open In Colab\"/></a>"
      ]
    },
    {
      "cell_type": "code",
      "metadata": {
        "id": "iLZFE_cen5ay"
      },
      "source": [
        "from google.colab import drive\n",
        "drive.mount('/content/drive')"
      ],
      "execution_count": null,
      "outputs": []
    },
    {
      "cell_type": "code",
      "metadata": {
        "id": "sgveWTruoMVI"
      },
      "source": [
        "%cd /content/drive/My Drive/gpt2_article_generate"
      ],
      "execution_count": null,
      "outputs": []
    },
    {
      "cell_type": "code",
      "metadata": {
        "id": "VuU59xkezSQH"
      },
      "source": [
        "!pip install transformers==2.1.1"
      ],
      "execution_count": null,
      "outputs": []
    },
    {
      "cell_type": "code",
      "metadata": {
        "id": "LypigOTPzlhB"
      },
      "source": [
        "!pip install sentencepiece"
      ],
      "execution_count": null,
      "outputs": []
    },
    {
      "cell_type": "code",
      "metadata": {
        "id": "mHb1Vne9zBgQ"
      },
      "source": [
        "## 训练这个文本生成模型，参数已经在train.py中改好了\n",
        "!python train.py"
      ],
      "execution_count": null,
      "outputs": []
    },
    {
      "cell_type": "markdown",
      "metadata": {
        "id": "Ai0mduEH3meU"
      },
      "source": [
        ""
      ]
    },
    {
      "cell_type": "code",
      "metadata": {
        "id": "DAEuO8X6zCSR"
      },
      "source": [
        "## 预测，用genenrate.py函数，设置出示词prifix， 预测出来的句子长度length，以及模型的参数选择，这里是选择了之前训练出来的model的config\n",
        "!python generate.py --prefix='政策' --nsamples=3 --length=50 --model_config='model/final_model/config.json'"
      ],
      "execution_count": null,
      "outputs": []
    },
    {
      "cell_type": "code",
      "metadata": {
        "id": "OauU2EHDzCXd"
      },
      "source": [
        ""
      ],
      "execution_count": null,
      "outputs": []
    }
  ]
}